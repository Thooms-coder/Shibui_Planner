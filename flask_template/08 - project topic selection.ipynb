{
 "cells": [
  {
   "cell_type": "code",
   "execution_count": null,
   "metadata": {},
   "outputs": [],
   "source": [
    "'''\n",
    "Video should be watched in previous week \n",
    "Lecture: project scope, project groups, meeting schedule / prep\n",
    "\n",
    "Live Session\n",
    "    ->Finish CRUD pages for user as example.\n",
    "    -User login\n",
    "\n",
    "\n",
    "'''"
   ]
  },
  {
   "cell_type": "markdown",
   "metadata": {},
   "source": [
    "Your final project in is437 will consist of an application which uses 4-5 tables.  Your application architecture should be client / server (Flask/HTML) and make use of an object framework based on the one we are developing.   The application must have a user login and support CRUD operations from several tables.  Here is the project grading rubric:\n",
    "\n",
    "percent  |  component\n",
    "-------------- | -----------------\n",
    "40% | Complexity - your project should include 4-5 tables in your database.  Not all tables have to support CRUD but you should demonstrate each of the 4 CRUD operations on at least 2 tables.  You should also have at least 3 pages in your application which require custom SQL queries (with JOINs)\n",
    "15% | Endpoint completeness - There should be good logical flow between pages in your application.  When a user makes a selection they should not be delivered to dead links or dead ends even if the selection they made is not within the typical use case.15% | Business logic - Business logic must be enforced on all forms.  Users should not be able to break the database integrity by entering invalid data.\n",
    "20% | Documentation - A markdown file is provided in the Github repo showing all required information including user types, user credentials (for demonstration purposes), relational diagram, use cases and at least 3 custom SQL view queries.\n",
    "10% | Style - Pages in your application should be reasonably presentable.  They do not need to be highly styled but they should clearly communicate information to the user.  Field names in forms, non-serifed font and line breaks where necessary are all important.\n",
    "\n"
   ]
  },
  {
   "cell_type": "markdown",
   "metadata": {},
   "source": [
    "In addition to the rubric above 20% of your course grade will be based on 4 status check in meetings.  Your grade for each meeting is based on meeting preperation and attendence. <br>\n",
    "Schedule of meetings:<br><br>\n",
    "\n",
    "Meeting number |   Date   | Preperation / purpose\n",
    "-------- | -------- | -----------------------\n",
    "1  | week 10 (3-7)  | Project topic selection.  Outline of application purpose (use cases), ER diagram, relational diagram, Github repo, readme.md\n",
    "2  | week 12 (3-28)  | Database init SQL, working user login, main menu, screen diagram\n",
    "3  | week 14 (4-11)  | 2-3 additional object pages, data tracking, outline of project specific SQL queries\n",
    "4  | week 16 (4-25)  | Final project overview, github readme.md, demonstration\n",
    "\n",
    "\n",
    "<br>\n",
    "Any final fixes to projects must be submitted by exam week.\n"
   ]
  },
  {
   "cell_type": "code",
   "execution_count": null,
   "metadata": {},
   "outputs": [],
   "source": []
  }
 ],
 "metadata": {
  "kernelspec": {
   "display_name": "Python 3",
   "language": "python",
   "name": "python3"
  },
  "language_info": {
   "codemirror_mode": {
    "name": "ipython",
    "version": 3
   },
   "file_extension": ".py",
   "mimetype": "text/x-python",
   "name": "python",
   "nbconvert_exporter": "python",
   "pygments_lexer": "ipython3",
   "version": "3.7.0"
  }
 },
 "nbformat": 4,
 "nbformat_minor": 4
}
